{
 "cells": [
  {
   "cell_type": "code",
   "execution_count": 13,
   "metadata": {},
   "outputs": [
    {
     "name": "stdout",
     "output_type": "stream",
     "text": [
      "/home/prichter/miniconda3/envs/aerobot-tool/lib/python3.12/site-packages/aerobot/data\n",
      "['__pycache__', '__init__.py']\n"
     ]
    }
   ],
   "source": [
    "import pandas as pd \n",
    "import numpy as np \n",
    "import os\n",
    "import itertools\n",
    "from aerobot.utils import DATA_DIR\n",
    "import glob\n",
    "print(DATA_DIR)\n",
    "print(os.listdir(DATA_DIR))\n",
    "\n",
    "AMINO_ACIDS = ['A', 'R', 'N', 'D', 'C', 'E', 'Q', 'G', 'H', 'I', 'L', 'K', 'M', 'F', 'P', 'S', 'T', 'W', 'Y', 'V', 'U']\n",
    "NUCLEOTIDES = ['A', 'C', 'T', 'G']\n",
    "\n",
    "FEATURE_TYPES = [f'nt_{i}mer' for i in range(1, 6)] + [f'aa_{i}mer' for i in range(1, 4)]"
   ]
  },
  {
   "cell_type": "code",
   "execution_count": 12,
   "metadata": {},
   "outputs": [],
   "source": [
    "for file_name in os.listdir(DATA_DIR):\n",
    "    if (file_name != '__init__.py') and os.path.isfile(os.path.join(DATA_DIR, file_name)):\n",
    "        os.remove(os.path.join(DATA_DIR, file_name))"
   ]
  },
  {
   "cell_type": "code",
   "execution_count": 14,
   "metadata": {},
   "outputs": [
    {
     "name": "stdout",
     "output_type": "stream",
     "text": [
      "['/aa_1mer', '/aa_2mer', '/aa_3mer', '/labels', '/nt_1mer', '/nt_2mer', '/nt_3mer', '/nt_4mer', '/nt_5mer']\n"
     ]
    }
   ],
   "source": [
    "store = pd.HDFStore('/home/prichter/miniconda3/envs/aerobot-tool/lib/python3.12/site-packages/aerobot/data/training_datasets.h5')\n",
    "print(list(store.keys()))\n",
    "store.close()"
   ]
  },
  {
   "cell_type": "code",
   "execution_count": null,
   "metadata": {},
   "outputs": [],
   "source": [
    "# Subset the training data used in the original paper to only include the features used in the tool. \n",
    "\n",
    "for file_name in ['training_datasets.h5', 'testing_datasets.h5', 'validation_datasets.h5']:\n",
    "    store = pd.HDFStore(os.path.join('/home/prichter/Documents/aerobot-paper/data', file_name))\n",
    "    subset_store = pd.HDFStore(os.path.join('./data', file_name), mode='w')\n",
    "    for feature_type in FEATURE_TYPES:\n",
    "        feature_data = store.get(f'/{feature_type}').copy()\n",
    "        feature_data.index.name = 'genome_id'\n",
    "        subset_store.put(feature_type, feature_data)\n",
    "\n",
    "    metadata_df = store.get('/metadata')\n",
    "    ternary_labels = metadata_df.physiology.str.lower() \n",
    "    binary_labels = ternary_labels.replace({'aerobe':'tolerant', 'facultative':'tolerant', 'anaerobe':'intolerant'}).values\n",
    "    labels_df = pd.DataFrame({'binary':binary_labels, 'ternary':ternary_labels, 'genome_id':metadata_df.index}).set_index('genome_id')\n",
    "    subset_store.put('labels', labels_df)\n",
    "\n",
    "    subset_store.close()\n",
    "    store.close()"
   ]
  },
  {
   "cell_type": "code",
   "execution_count": 3,
   "metadata": {},
   "outputs": [
    {
     "name": "stdout",
     "output_type": "stream",
     "text": [
      "Number of 3-mers: 9868\n",
      "Number of valid 3-mers: 8134\n",
      "Amino acids present (n=21): {'Y', 'I', 'T', 'C', 'P', 'H', 'S', 'F', 'R', 'A', 'V', 'Q', 'D', 'G', 'L', 'K', 'M', 'W', 'U', 'N', 'E'}\n"
     ]
    }
   ],
   "source": [
    "subset_store = pd.HDFStore(os.path.join('./data', 'testing_datasets.h5'), mode='r')\n",
    "aa_3mers_df = subset_store.get('aa_3mer')\n",
    "print('Number of 3-mers:', len(aa_3mers_df.columns))\n",
    "print('Number of valid 3-mers:', len([c for c in aa_3mers_df.columns if np.all(np.isin(list(c), AMINO_ACIDS))]))\n",
    "\n",
    "valid_aa_3mers = [c for c in aa_3mers_df.columns if np.all(np.isin(list(c), AMINO_ACIDS))]\n",
    "amino_acids = []\n",
    "for aa_3mer in valid_aa_3mers:\n",
    "    amino_acids += list(aa_3mer)\n",
    "print(f'Amino acids present (n={len(set(amino_acids))}):', set(amino_acids))\n",
    "\n",
    "subset_store.close()"
   ]
  },
  {
   "cell_type": "code",
   "execution_count": 9,
   "metadata": {},
   "outputs": [
    {
     "name": "stdout",
     "output_type": "stream",
     "text": [
      "training_datasets.h5 2084\n",
      "testing_datasets.h5 587\n",
      "validation_datasets.h5 465\n"
     ]
    }
   ],
   "source": [
    "\n",
    "# Test to make sure the above worked...\n",
    "for file_name in ['training_datasets.h5', 'testing_datasets.h5', 'validation_datasets.h5']:\n",
    "    subset_store = pd.HDFStore(os.path.join('./data', file_name), mode='r')\n",
    "    print(file_name, len(subset_store.get('aa_1mer')))\n",
    "\n",
    "    subset_store.close()"
   ]
  },
  {
   "cell_type": "code",
   "execution_count": 5,
   "metadata": {},
   "outputs": [
    {
     "data": {
      "text/plain": [
       "9261"
      ]
     },
     "execution_count": 5,
     "metadata": {},
     "output_type": "execute_result"
    }
   ],
   "source": [
    "len([''.join(i) for i in itertools.product(AMINO_ACIDS, repeat=3)])"
   ]
  },
  {
   "cell_type": "code",
   "execution_count": 6,
   "metadata": {},
   "outputs": [],
   "source": [
    "# count = 0\n",
    "# for i in itertools.product(set(amino_acids), repeat=3):\n",
    "#     print(''.join(i))\n",
    "#     count += 1\n",
    "#     if count > 20:\n",
    "#         break"
   ]
  },
  {
   "cell_type": "code",
   "execution_count": null,
   "metadata": {},
   "outputs": [],
   "source": []
  }
 ],
 "metadata": {
  "kernelspec": {
   "display_name": "aerobot",
   "language": "python",
   "name": "python3"
  },
  "language_info": {
   "codemirror_mode": {
    "name": "ipython",
    "version": 3
   },
   "file_extension": ".py",
   "mimetype": "text/x-python",
   "name": "python",
   "nbconvert_exporter": "python",
   "pygments_lexer": "ipython3",
   "version": "3.12.5"
  }
 },
 "nbformat": 4,
 "nbformat_minor": 2
}
